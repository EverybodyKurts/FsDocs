{
 "cells": [
  {
   "cell_type": "markdown",
   "metadata": {},
   "source": [
    "## List.allPairs\n",
    "\n",
    "```fsharp\n",
    "allPairs: 'a list -> 'b list -> ('a * 'b) list\n",
    "```\n",
    "\t\n",
    "Returns a new list that contains all pairings of elements from the first and second lists. Otherwise known as a cartesian product or a cross join.\n",
    ""
   ]
  },
  {
   "cell_type": "code",
   "execution_count": 1,
   "metadata": {},
   "source": [
    "#!fsharp\n",
    "List.allPairs [1; 2; 3] [\"a\"; \"b\"]"
   ],
   "outputs": [
    {
     "output_type": "execute_result",
     "data": {
      "text/html": "<table><thead><tr><th><i>index</i></th><th>Item1</th><th>Item2</th></tr></thead><tbody><tr><td>0</td><td><div class=\"dni-plaintext\">1</div></td><td><div class=\"dni-plaintext\">a</div></td></tr><tr><td>1</td><td><div class=\"dni-plaintext\">1</div></td><td><div class=\"dni-plaintext\">b</div></td></tr><tr><td>2</td><td><div class=\"dni-plaintext\">2</div></td><td><div class=\"dni-plaintext\">a</div></td></tr><tr><td>3</td><td><div class=\"dni-plaintext\">2</div></td><td><div class=\"dni-plaintext\">b</div></td></tr><tr><td>4</td><td><div class=\"dni-plaintext\">3</div></td><td><div class=\"dni-plaintext\">a</div></td></tr><tr><td>5</td><td><div class=\"dni-plaintext\">3</div></td><td><div class=\"dni-plaintext\">b</div></td></tr></tbody></table>"
     },
     "execution_count": 1,
     "metadata": {}
    }
   ]
  },
  {
   "cell_type": "markdown",
   "metadata": {},
   "source": [
    "## List.choose\n",
    "\n",
    "```fsharp\n",
    "choose: ('a -> 'b option) -> 'a list -> 'b list\n",
    "```\n",
    "\n",
    "Applies the given function, which returns an option, to each list element. Returns only elements where the applied function was resulted in a `Some` value."
   ]
  },
  {
   "cell_type": "code",
   "execution_count": 1,
   "metadata": {},
   "source": [
    "#!fsharp\n",
    "let parseInt (str:string) =\n",
    "    match System.Int32.TryParse(str) with\n",
    "    | (true,int) -> Some(int)\n",
    "    | _ -> None\n",
    "\n",
    "parseInt \"123\" // -> (Some 123)\n",
    "parseInt \"foo\" // -> None\n",
    "\n",
    "List.map parseInt [\"1\"; \"2\"; \"foo\"] // [(Some 1); (Some 2); None]\n",
    "List.choose parseInt [\"1\"; \"2\"; \"foo\"]"
   ],
   "outputs": [
    {
     "output_type": "execute_result",
     "data": {
      "text/html": "<table><thead><tr><th><i>index</i></th><th>value</th></tr></thead><tbody><tr><td>0</td><td><div class=\"dni-plaintext\">1</div></td></tr><tr><td>1</td><td><div class=\"dni-plaintext\">2</div></td></tr></tbody></table>"
     },
     "execution_count": 1,
     "metadata": {}
    }
   ]
  }
 ],
 "metadata": {
  "kernelspec": {
   "display_name": ".NET (C#)",
   "language": "C#",
   "name": ".net-csharp"
  },
  "language_info": {
   "file_extension": ".cs",
   "mimetype": "text/x-csharp",
   "name": "C#",
   "pygments_lexer": "csharp",
   "version": "8.0"
  }
 },
 "nbformat": 4,
 "nbformat_minor": 4
}